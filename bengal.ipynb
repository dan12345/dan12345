{
  "nbformat": 4,
  "nbformat_minor": 0,
  "metadata": {
    "colab": {
      "provenance": [],
      "authorship_tag": "ABX9TyPUYY2wYxvA1NS4RFIh/+Ep",
      "include_colab_link": true
    },
    "kernelspec": {
      "name": "python3",
      "display_name": "Python 3"
    },
    "language_info": {
      "name": "python"
    }
  },
  "cells": [
    {
      "cell_type": "markdown",
      "metadata": {
        "id": "view-in-github",
        "colab_type": "text"
      },
      "source": [
        "<a href=\"https://colab.research.google.com/github/dan12345/dan12345/blob/main/bengal.ipynb\" target=\"_parent\"><img src=\"https://colab.research.google.com/assets/colab-badge.svg\" alt=\"Open In Colab\"/></a>"
      ]
    },
    {
      "cell_type": "code",
      "source": [
        "!pip3 install wordhoard\n",
        "!pip3 install nltk\n",
        "import nltk\n",
        "import pickle\n",
        "nltk.download('punkt')\n",
        "from nltk.tokenize import sent_tokenize, word_tokenize, RegexpTokenizer\n",
        "from wordhoard import Homophones\n"
      ],
      "metadata": {
        "id": "RXMILu4xPFWU"
      },
      "execution_count": null,
      "outputs": []
    },
    {
      "cell_type": "code",
      "source": [
        "class word_stats:\n",
        "  \n",
        "  def __init__(self, word):\n",
        "    self.occurances = []\n",
        "    self.count = 0\n",
        "    self.word = word\n",
        "\n",
        "  def add_occurance(self, text_index, sentence_index):\n",
        "    self.occurances.append((text_index, sentence_index))\n",
        "    self.count +=1\n",
        "\n",
        "  def __repr__(self):\n",
        "    return \"word %s appears %s times\" % (self.word, self.count)\n",
        "  \n",
        "class doc_summary:\n",
        "  def __init__(self,texts):\n",
        "    self.word_mapping = {}\n",
        "    self.sentence_mapping = []\n",
        "    tokenizer = RegexpTokenizer(r'\\w+')\n",
        "    word_mapping = {}\n",
        "    for i, text in enumerate(texts):\n",
        "      sentences = sent_tokenize(text.lower())\n",
        "      tokenized_sentences = []\n",
        "      words = []\n",
        "      for j, sen in enumerate(sentences):\n",
        "        words = tokenizer.tokenize(sen)\n",
        "        tokenized_sentences.append(words)\n",
        "        for word in words:\n",
        "          if word not in self.word_mapping:\n",
        "            self.word_mapping[word] = word_stats(word)\n",
        "          self.word_mapping[word].add_occurance(i,j)\n",
        "      self.sentence_mapping.append(tokenized_sentences)\n",
        "  \n",
        "\n",
        "  def find_homonyms(self):\n",
        "    ''' \n",
        "    print out the hononyms found in the text, \n",
        "    together with the number of occurences of each word and the sentences where they occured.\n",
        "    Relying at the moment on a random 3'rd party library\n",
        "    '''\n",
        "    homonyms = set()\n",
        "    words = list(self.word_mapping.keys())\n",
        "    for i in range(0, len(words)):\n",
        "      homophone = Homophones(words[i])\n",
        "      homophone_results = homophone.find_homophones()\n",
        "      if type(homophone_results) == list: # result is list with \"words[i] is homophone of X is there is\", or string of none found else\n",
        "        for hom in [word_tokenize(l)[-1] for l in homophone_results]:\n",
        "          if hom in words:\n",
        "            tup = (words[i], hom) if words[i] < hom else (hom, words[i])\n",
        "            homonyms.add(tup)\n",
        "\n",
        "    #### do some prints\n",
        "    print(\"######################################\")\n",
        "    print(\"Homonym analysis:\")\n",
        "    print(\"######################################\")\n",
        "\n",
        "    if len(homonyms) == 0:\n",
        "      print(\"Didn't find any homonyms in the text\")\n",
        "    count = 0 \n",
        "    for hom in homonyms:\n",
        "      count +=1\n",
        "      print(\"\\nHomonym number %s: %s\\n\" % (count, hom))\n",
        "      print(\"%s appears %s times, %s appears %s times\"% (hom[0], self.word_mapping[hom[0]].count, \n",
        "                                                         hom[1], self.word_mapping[hom[1]].count))\n",
        "      print(\"Sentences that homonym appears in:\")\n",
        "      for occur in self.word_mapping[hom[0]].occurances:\n",
        "        print(\" \".join(self.sentence_mapping[occur[0]][occur[1]]))\n",
        "      for occur in self.word_mapping[hom[1]].occurances:\n",
        "        print(\" \".join(self.sentence_mapping[occur[0]][occur[1]]))  \n",
        "    \n",
        "    print(\"######################################\")\n",
        "    print(\"End of homonym analysis\")  \n",
        "    print(\"######################################\")\n",
        "\n",
        "\n",
        "  def find_wsd(text):\n",
        "    print(\"######################################\")\n",
        "    print(\"WSD analysis\")\n",
        "\n",
        "    print(\"\\n######################################\")\n",
        "  \n",
        "\n",
        "  \n",
        "\n",
        "\n",
        "\n"
      ],
      "metadata": {
        "id": "aKOW4uAFP1Ky"
      },
      "execution_count": 76,
      "outputs": []
    },
    {
      "cell_type": "code",
      "source": [
        "ds = doc_summary([\"I love to eat a good bear. Also I love to eat pancake\", \"I cant not bare a good show\", \"Dear me, i like god\", \"Deer is not a goat\"])\n",
        "ds.find_homonyms()"
      ],
      "metadata": {
        "colab": {
          "base_uri": "https://localhost:8080/"
        },
        "id": "G6fnLQ1xKH7f",
        "outputId": "320ed060-1ab3-4303-a85d-397dc08c7ce5"
      },
      "execution_count": 77,
      "outputs": [
        {
          "output_type": "stream",
          "name": "stdout",
          "text": [
            "######################################\n",
            "Homonym analysis:\n",
            "######################################\n",
            "\n",
            "Homonym number 1: ('bare', 'bear')\n",
            "\n",
            "bare appears 1 times, bear appears 1 times\n",
            "Sentences that homonym appears in:\n",
            "i cant not bare a good show\n",
            "i love to eat a good bear\n",
            "\n",
            "Homonym number 2: ('dear', 'deer')\n",
            "\n",
            "dear appears 1 times, deer appears 1 times\n",
            "Sentences that homonym appears in:\n",
            "dear me i like god\n",
            "deer is not a goat\n",
            "######################################\n",
            "End of homonym analysis\n",
            "######################################\n"
          ]
        }
      ]
    },
    {
      "cell_type": "code",
      "source": [
        "Homophones(\"\")"
      ],
      "metadata": {
        "colab": {
          "base_uri": "https://localhost:8080/"
        },
        "id": "5zLR9DK67VLc",
        "outputId": "f1a7e40c-019d-4442-9915-0b5b9f77186e"
      },
      "execution_count": 5,
      "outputs": [
        {
          "output_type": "stream",
          "name": "stdout",
          "text": [
            "0\n",
            "a\n",
            "1\n",
            "b\n",
            "2\n",
            "c\n"
          ]
        }
      ]
    },
    {
      "cell_type": "code",
      "source": [],
      "metadata": {
        "id": "L64ty3chJvKo"
      },
      "execution_count": null,
      "outputs": []
    }
  ]
}